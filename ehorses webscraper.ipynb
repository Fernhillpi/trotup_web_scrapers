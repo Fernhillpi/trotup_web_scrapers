{
 "cells": [
  {
   "cell_type": "code",
   "execution_count": 1,
   "metadata": {},
   "outputs": [],
   "source": [
    "#import libraries\n",
    "import pandas as pd\n",
    "import numpy as np\n",
    "import matplotlib.pyplot as plt\n",
    "%matplotlib inline\n",
    "import requests\n",
    "import lxml\n",
    "from urllib.parse import urljoin\n",
    "from urllib.request import urlopen\n",
    "from bs4 import BeautifulSoup"
   ]
  },
  {
   "cell_type": "code",
   "execution_count": 42,
   "metadata": {},
   "outputs": [],
   "source": [
    "#create empty lists for data\n",
    "advertisements = []\n",
    "prices = []\n",
    "subcategories = []\n",
    "#set starting page\n",
    "page=1\n",
    "nextpage = page + 1\n",
    "\n",
    "#url for ehorses.com\n",
    "url = \"https://www.ehorses.com/search?dum=dum&seite={pageno}\".format(pageno = page)\n",
    "html = urlopen(url)\n",
    "soup = BeautifulSoup(html, 'lxml')\n",
    "\n",
    "#identify how many pages there are to scrape\n",
    "last_page =  soup.find(title=\"To the last page\").text\n",
    "last_page = int(last_page)\n",
    "\n",
    "#create list of all the page numbers to iterate through and scrape\n",
    "mypages= list(range(page,(last_page+1)))\n",
    "\n",
    "#iterate through all pages\n",
    "for num in range(mypages):\n",
    "    #extract the advert title and add to list\n",
    "    for item in soup.select(\"a.headline.noline.truncate\"):\n",
    "        advertisements.append(item.text)\n",
    "    #extract the price and add to list\n",
    "    for item in soup.select(\".btm .price\"):\n",
    "        prices.append(item.get_text(strip = True))\n",
    "    #extract the subcategory/type of horse and add to list\n",
    "    for item in soup.select(\".content b\"):\n",
    "        subcategories.append(item.text)\n",
    "    #go to the next page when this is complete    \n",
    "    url = \"https://www.ehorses.com/search?dum=dum&seite={pageno}\".format(pageno = nextpage)\n",
    "        "
   ]
  },
  {
   "cell_type": "code",
   "execution_count": 37,
   "metadata": {},
   "outputs": [],
   "source": [
    "#check scrape was successful and all lists are same length:"
   ]
  },
  {
   "cell_type": "code",
   "execution_count": 43,
   "metadata": {},
   "outputs": [
    {
     "data": {
      "text/plain": [
       "125"
      ]
     },
     "execution_count": 43,
     "metadata": {},
     "output_type": "execute_result"
    }
   ],
   "source": [
    "len(prices)"
   ]
  },
  {
   "cell_type": "code",
   "execution_count": 44,
   "metadata": {},
   "outputs": [
    {
     "data": {
      "text/plain": [
       "125"
      ]
     },
     "execution_count": 44,
     "metadata": {},
     "output_type": "execute_result"
    }
   ],
   "source": [
    "len(advertisements)"
   ]
  },
  {
   "cell_type": "code",
   "execution_count": 45,
   "metadata": {},
   "outputs": [
    {
     "data": {
      "text/plain": [
       "125"
      ]
     },
     "execution_count": 45,
     "metadata": {},
     "output_type": "execute_result"
    }
   ],
   "source": [
    "len(subcategories)"
   ]
  },
  {
   "cell_type": "markdown",
   "metadata": {},
   "source": [
    "***make pandas dataframe from these lists***"
   ]
  },
  {
   "cell_type": "code",
   "execution_count": 46,
   "metadata": {},
   "outputs": [],
   "source": [
    "df = pd.DataFrame()"
   ]
  },
  {
   "cell_type": "code",
   "execution_count": 47,
   "metadata": {},
   "outputs": [],
   "source": [
    "df[\"Name\"] = advertisements"
   ]
  },
  {
   "cell_type": "code",
   "execution_count": 48,
   "metadata": {},
   "outputs": [],
   "source": [
    "df[\"Price\"]= prices"
   ]
  },
  {
   "cell_type": "code",
   "execution_count": 49,
   "metadata": {},
   "outputs": [],
   "source": [
    "df[\"Type\"]= subcategories"
   ]
  },
  {
   "cell_type": "code",
   "execution_count": 50,
   "metadata": {},
   "outputs": [
    {
     "data": {
      "text/html": [
       "<div>\n",
       "<style scoped>\n",
       "    .dataframe tbody tr th:only-of-type {\n",
       "        vertical-align: middle;\n",
       "    }\n",
       "\n",
       "    .dataframe tbody tr th {\n",
       "        vertical-align: top;\n",
       "    }\n",
       "\n",
       "    .dataframe thead th {\n",
       "        text-align: right;\n",
       "    }\n",
       "</style>\n",
       "<table border=\"1\" class=\"dataframe\">\n",
       "  <thead>\n",
       "    <tr style=\"text-align: right;\">\n",
       "      <th></th>\n",
       "      <th>Name</th>\n",
       "      <th>Price</th>\n",
       "      <th>Type</th>\n",
       "    </tr>\n",
       "  </thead>\n",
       "  <tbody>\n",
       "    <tr>\n",
       "      <th>0</th>\n",
       "      <td>Andalusian, Stallion, 2 years, 15.1 hh, Buckskin</td>\n",
       "      <td>~5,645 $5,000 €</td>\n",
       "      <td>Dressage</td>\n",
       "    </tr>\n",
       "    <tr>\n",
       "      <th>1</th>\n",
       "      <td>Holstein, Gelding, 6 years, 17.1 hh, Brown</td>\n",
       "      <td>price range25,000 € to 40,000 € /~28,224 $ to ...</td>\n",
       "      <td>Jumping</td>\n",
       "    </tr>\n",
       "    <tr>\n",
       "      <th>2</th>\n",
       "      <td>Oldenburg, Mare, 3 years, 15.2 hh, Pinto</td>\n",
       "      <td>ONO~6,661 $5,900 €</td>\n",
       "      <td>Dressage</td>\n",
       "    </tr>\n",
       "    <tr>\n",
       "      <th>3</th>\n",
       "      <td>Icelandic Horse, Mare, 16 years, Chestnut-Red</td>\n",
       "      <td>price range5,000 € to 10,000 € /~5,646 $ to 11...</td>\n",
       "      <td>Gaited</td>\n",
       "    </tr>\n",
       "    <tr>\n",
       "      <th>4</th>\n",
       "      <td>Arabian horses, Gelding, 1 year, 15 hh, Black</td>\n",
       "      <td>price on application</td>\n",
       "      <td>Leisure</td>\n",
       "    </tr>\n",
       "    <tr>\n",
       "      <th>...</th>\n",
       "      <td>...</td>\n",
       "      <td>...</td>\n",
       "      <td>...</td>\n",
       "    </tr>\n",
       "    <tr>\n",
       "      <th>120</th>\n",
       "      <td>Hanoverian, Mare, 3 years, 16.1 hh, Black</td>\n",
       "      <td>price range15,000 € to 25,000 € /~16,935 $ to ...</td>\n",
       "      <td>Dressage</td>\n",
       "    </tr>\n",
       "    <tr>\n",
       "      <th>121</th>\n",
       "      <td>German Sport Horse, Mare, 3 years, 16.1 hh, Ch...</td>\n",
       "      <td>~6,209 $5,500 €</td>\n",
       "      <td>Dressage</td>\n",
       "    </tr>\n",
       "    <tr>\n",
       "      <th>122</th>\n",
       "      <td>Paint Horse, Mare, 8 years, 15.1 hh, Sorrel</td>\n",
       "      <td>ONO~3,951 $3,500 €</td>\n",
       "      <td>Western Other</td>\n",
       "    </tr>\n",
       "    <tr>\n",
       "      <th>123</th>\n",
       "      <td>Andalusian, Stallion, 5 years, 16 hh, Dun</td>\n",
       "      <td>~12,418 $11,000 €</td>\n",
       "      <td>Dressage</td>\n",
       "    </tr>\n",
       "    <tr>\n",
       "      <th>124</th>\n",
       "      <td>Andalusian, Stallion, 4 years, 16 hh, Gray</td>\n",
       "      <td>price range10,000 € to 15,000 € /~11,290 $ to ...</td>\n",
       "      <td>Dressage</td>\n",
       "    </tr>\n",
       "  </tbody>\n",
       "</table>\n",
       "<p>125 rows × 3 columns</p>\n",
       "</div>"
      ],
      "text/plain": [
       "                                                  Name  \\\n",
       "0     Andalusian, Stallion, 2 years, 15.1 hh, Buckskin   \n",
       "1           Holstein, Gelding, 6 years, 17.1 hh, Brown   \n",
       "2             Oldenburg, Mare, 3 years, 15.2 hh, Pinto   \n",
       "3        Icelandic Horse, Mare, 16 years, Chestnut-Red   \n",
       "4        Arabian horses, Gelding, 1 year, 15 hh, Black   \n",
       "..                                                 ...   \n",
       "120          Hanoverian, Mare, 3 years, 16.1 hh, Black   \n",
       "121  German Sport Horse, Mare, 3 years, 16.1 hh, Ch...   \n",
       "122        Paint Horse, Mare, 8 years, 15.1 hh, Sorrel   \n",
       "123          Andalusian, Stallion, 5 years, 16 hh, Dun   \n",
       "124         Andalusian, Stallion, 4 years, 16 hh, Gray   \n",
       "\n",
       "                                                 Price           Type  \n",
       "0                                      ~5,645 $5,000 €       Dressage  \n",
       "1    price range25,000 € to 40,000 € /~28,224 $ to ...        Jumping  \n",
       "2                                   ONO~6,661 $5,900 €       Dressage  \n",
       "3    price range5,000 € to 10,000 € /~5,646 $ to 11...         Gaited  \n",
       "4                                 price on application        Leisure  \n",
       "..                                                 ...            ...  \n",
       "120  price range15,000 € to 25,000 € /~16,935 $ to ...       Dressage  \n",
       "121                                    ~6,209 $5,500 €       Dressage  \n",
       "122                                 ONO~3,951 $3,500 €  Western Other  \n",
       "123                                  ~12,418 $11,000 €       Dressage  \n",
       "124  price range10,000 € to 15,000 € /~11,290 $ to ...       Dressage  \n",
       "\n",
       "[125 rows x 3 columns]"
      ]
     },
     "execution_count": 50,
     "metadata": {},
     "output_type": "execute_result"
    }
   ],
   "source": [
    "df"
   ]
  },
  {
   "cell_type": "code",
   "execution_count": null,
   "metadata": {},
   "outputs": [],
   "source": []
  }
 ],
 "metadata": {
  "kernelspec": {
   "display_name": "Python 3",
   "language": "python",
   "name": "python3"
  },
  "language_info": {
   "codemirror_mode": {
    "name": "ipython",
    "version": 3
   },
   "file_extension": ".py",
   "mimetype": "text/x-python",
   "name": "python",
   "nbconvert_exporter": "python",
   "pygments_lexer": "ipython3",
   "version": "3.7.6"
  }
 },
 "nbformat": 4,
 "nbformat_minor": 4
}
