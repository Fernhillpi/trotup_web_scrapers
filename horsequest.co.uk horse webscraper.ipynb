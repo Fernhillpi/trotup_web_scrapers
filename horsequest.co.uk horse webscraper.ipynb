{
 "cells": [
  {
   "cell_type": "code",
   "execution_count": 1,
   "metadata": {},
   "outputs": [],
   "source": [
    "#import packages\n",
    "from selenium import webdriver\n",
    "from selenium.webdriver.common.keys import Keys\n",
    "from selenium.webdriver.common.by import By\n",
    "from selenium.webdriver.support.ui import WebDriverWait\n",
    "from selenium.webdriver.support import expected_conditions as EC\n",
    "from selenium.webdriver.common.action_chains import ActionChains\n",
    "from selenium.webdriver.support.ui import Select\n",
    "from selenium.common.exceptions import NoSuchElementException\n",
    "import time\n",
    "import pandas as pd\n",
    "import numpy as np"
   ]
  },
  {
   "cell_type": "code",
   "execution_count": null,
   "metadata": {},
   "outputs": [],
   "source": []
  },
  {
   "cell_type": "code",
   "execution_count": 2,
   "metadata": {},
   "outputs": [],
   "source": [
    "#set path\n",
    "PATH = \"/Users/Immy/Desktop/chromedriver\""
   ]
  },
  {
   "cell_type": "code",
   "execution_count": 27,
   "metadata": {},
   "outputs": [
    {
     "ename": "NoSuchWindowException",
     "evalue": "Message: no such window: window was already closed\n  (Session info: chrome=84.0.4147.135)\n",
     "output_type": "error",
     "traceback": [
      "\u001b[0;31m---------------------------------------------------------------------------\u001b[0m",
      "\u001b[0;31mNoSuchWindowException\u001b[0m                     Traceback (most recent call last)",
      "\u001b[0;32m<ipython-input-27-66f4cdc2cf04>\u001b[0m in \u001b[0;36m<module>\u001b[0;34m\u001b[0m\n\u001b[1;32m    125\u001b[0m                 \u001b[0moptions\u001b[0m \u001b[0;34m=\u001b[0m \u001b[0mdd2\u001b[0m\u001b[0;34m.\u001b[0m\u001b[0moptions\u001b[0m\u001b[0;34m\u001b[0m\u001b[0;34m\u001b[0m\u001b[0m\n\u001b[1;32m    126\u001b[0m \u001b[0;34m\u001b[0m\u001b[0m\n\u001b[0;32m--> 127\u001b[0;31m \u001b[0mmain\u001b[0m\u001b[0;34m(\u001b[0m\u001b[0;34m)\u001b[0m\u001b[0;34m\u001b[0m\u001b[0;34m\u001b[0m\u001b[0m\n\u001b[0m\u001b[1;32m    128\u001b[0m \u001b[0;34m\u001b[0m\u001b[0m\n\u001b[1;32m    129\u001b[0m \u001b[0mdriver\u001b[0m\u001b[0;34m.\u001b[0m\u001b[0mquit\u001b[0m\u001b[0;34m(\u001b[0m\u001b[0;34m)\u001b[0m\u001b[0;34m\u001b[0m\u001b[0;34m\u001b[0m\u001b[0m\n",
      "\u001b[0;32m<ipython-input-27-66f4cdc2cf04>\u001b[0m in \u001b[0;36mmain\u001b[0;34m()\u001b[0m\n\u001b[1;32m    103\u001b[0m             \u001b[0;32mtry\u001b[0m\u001b[0;34m:\u001b[0m\u001b[0;34m\u001b[0m\u001b[0;34m\u001b[0m\u001b[0m\n\u001b[1;32m    104\u001b[0m             \u001b[0;31m#if a next page button is present: get data from this page, then click next page\u001b[0m\u001b[0;34m\u001b[0m\u001b[0;34m\u001b[0m\u001b[0;34m\u001b[0m\u001b[0m\n\u001b[0;32m--> 105\u001b[0;31m                 \u001b[0mnextpage\u001b[0m \u001b[0;34m=\u001b[0m \u001b[0mdriver\u001b[0m\u001b[0;34m.\u001b[0m\u001b[0mfind_element_by_xpath\u001b[0m\u001b[0;34m(\u001b[0m\u001b[0;34m\"//*[(@id = 'ContentPanel_ucTopPagination_hlPageNext')]\"\u001b[0m\u001b[0;34m)\u001b[0m\u001b[0;34m\u001b[0m\u001b[0;34m\u001b[0m\u001b[0m\n\u001b[0m\u001b[1;32m    106\u001b[0m                 \u001b[0mget_data\u001b[0m\u001b[0;34m(\u001b[0m\u001b[0;34m)\u001b[0m\u001b[0;34m\u001b[0m\u001b[0;34m\u001b[0m\u001b[0m\n\u001b[1;32m    107\u001b[0m                 \u001b[0mnextpage\u001b[0m\u001b[0;34m.\u001b[0m\u001b[0mclick\u001b[0m\u001b[0;34m(\u001b[0m\u001b[0;34m)\u001b[0m\u001b[0;34m\u001b[0m\u001b[0;34m\u001b[0m\u001b[0m\n",
      "\u001b[0;32m~/opt/anaconda3/lib/python3.7/site-packages/selenium/webdriver/remote/webdriver.py\u001b[0m in \u001b[0;36mfind_element_by_xpath\u001b[0;34m(self, xpath)\u001b[0m\n\u001b[1;32m    392\u001b[0m             \u001b[0melement\u001b[0m \u001b[0;34m=\u001b[0m \u001b[0mdriver\u001b[0m\u001b[0;34m.\u001b[0m\u001b[0mfind_element_by_xpath\u001b[0m\u001b[0;34m(\u001b[0m\u001b[0;34m'//div/td[1]'\u001b[0m\u001b[0;34m)\u001b[0m\u001b[0;34m\u001b[0m\u001b[0;34m\u001b[0m\u001b[0m\n\u001b[1;32m    393\u001b[0m         \"\"\"\n\u001b[0;32m--> 394\u001b[0;31m         \u001b[0;32mreturn\u001b[0m \u001b[0mself\u001b[0m\u001b[0;34m.\u001b[0m\u001b[0mfind_element\u001b[0m\u001b[0;34m(\u001b[0m\u001b[0mby\u001b[0m\u001b[0;34m=\u001b[0m\u001b[0mBy\u001b[0m\u001b[0;34m.\u001b[0m\u001b[0mXPATH\u001b[0m\u001b[0;34m,\u001b[0m \u001b[0mvalue\u001b[0m\u001b[0;34m=\u001b[0m\u001b[0mxpath\u001b[0m\u001b[0;34m)\u001b[0m\u001b[0;34m\u001b[0m\u001b[0;34m\u001b[0m\u001b[0m\n\u001b[0m\u001b[1;32m    395\u001b[0m \u001b[0;34m\u001b[0m\u001b[0m\n\u001b[1;32m    396\u001b[0m     \u001b[0;32mdef\u001b[0m \u001b[0mfind_elements_by_xpath\u001b[0m\u001b[0;34m(\u001b[0m\u001b[0mself\u001b[0m\u001b[0;34m,\u001b[0m \u001b[0mxpath\u001b[0m\u001b[0;34m)\u001b[0m\u001b[0;34m:\u001b[0m\u001b[0;34m\u001b[0m\u001b[0;34m\u001b[0m\u001b[0m\n",
      "\u001b[0;32m~/opt/anaconda3/lib/python3.7/site-packages/selenium/webdriver/remote/webdriver.py\u001b[0m in \u001b[0;36mfind_element\u001b[0;34m(self, by, value)\u001b[0m\n\u001b[1;32m    976\u001b[0m         return self.execute(Command.FIND_ELEMENT, {\n\u001b[1;32m    977\u001b[0m             \u001b[0;34m'using'\u001b[0m\u001b[0;34m:\u001b[0m \u001b[0mby\u001b[0m\u001b[0;34m,\u001b[0m\u001b[0;34m\u001b[0m\u001b[0;34m\u001b[0m\u001b[0m\n\u001b[0;32m--> 978\u001b[0;31m             'value': value})['value']\n\u001b[0m\u001b[1;32m    979\u001b[0m \u001b[0;34m\u001b[0m\u001b[0m\n\u001b[1;32m    980\u001b[0m     \u001b[0;32mdef\u001b[0m \u001b[0mfind_elements\u001b[0m\u001b[0;34m(\u001b[0m\u001b[0mself\u001b[0m\u001b[0;34m,\u001b[0m \u001b[0mby\u001b[0m\u001b[0;34m=\u001b[0m\u001b[0mBy\u001b[0m\u001b[0;34m.\u001b[0m\u001b[0mID\u001b[0m\u001b[0;34m,\u001b[0m \u001b[0mvalue\u001b[0m\u001b[0;34m=\u001b[0m\u001b[0;32mNone\u001b[0m\u001b[0;34m)\u001b[0m\u001b[0;34m:\u001b[0m\u001b[0;34m\u001b[0m\u001b[0;34m\u001b[0m\u001b[0m\n",
      "\u001b[0;32m~/opt/anaconda3/lib/python3.7/site-packages/selenium/webdriver/remote/webdriver.py\u001b[0m in \u001b[0;36mexecute\u001b[0;34m(self, driver_command, params)\u001b[0m\n\u001b[1;32m    319\u001b[0m         \u001b[0mresponse\u001b[0m \u001b[0;34m=\u001b[0m \u001b[0mself\u001b[0m\u001b[0;34m.\u001b[0m\u001b[0mcommand_executor\u001b[0m\u001b[0;34m.\u001b[0m\u001b[0mexecute\u001b[0m\u001b[0;34m(\u001b[0m\u001b[0mdriver_command\u001b[0m\u001b[0;34m,\u001b[0m \u001b[0mparams\u001b[0m\u001b[0;34m)\u001b[0m\u001b[0;34m\u001b[0m\u001b[0;34m\u001b[0m\u001b[0m\n\u001b[1;32m    320\u001b[0m         \u001b[0;32mif\u001b[0m \u001b[0mresponse\u001b[0m\u001b[0;34m:\u001b[0m\u001b[0;34m\u001b[0m\u001b[0;34m\u001b[0m\u001b[0m\n\u001b[0;32m--> 321\u001b[0;31m             \u001b[0mself\u001b[0m\u001b[0;34m.\u001b[0m\u001b[0merror_handler\u001b[0m\u001b[0;34m.\u001b[0m\u001b[0mcheck_response\u001b[0m\u001b[0;34m(\u001b[0m\u001b[0mresponse\u001b[0m\u001b[0;34m)\u001b[0m\u001b[0;34m\u001b[0m\u001b[0;34m\u001b[0m\u001b[0m\n\u001b[0m\u001b[1;32m    322\u001b[0m             response['value'] = self._unwrap_value(\n\u001b[1;32m    323\u001b[0m                 response.get('value', None))\n",
      "\u001b[0;32m~/opt/anaconda3/lib/python3.7/site-packages/selenium/webdriver/remote/errorhandler.py\u001b[0m in \u001b[0;36mcheck_response\u001b[0;34m(self, response)\u001b[0m\n\u001b[1;32m    240\u001b[0m                 \u001b[0malert_text\u001b[0m \u001b[0;34m=\u001b[0m \u001b[0mvalue\u001b[0m\u001b[0;34m[\u001b[0m\u001b[0;34m'alert'\u001b[0m\u001b[0;34m]\u001b[0m\u001b[0;34m.\u001b[0m\u001b[0mget\u001b[0m\u001b[0;34m(\u001b[0m\u001b[0;34m'text'\u001b[0m\u001b[0;34m)\u001b[0m\u001b[0;34m\u001b[0m\u001b[0;34m\u001b[0m\u001b[0m\n\u001b[1;32m    241\u001b[0m             \u001b[0;32mraise\u001b[0m \u001b[0mexception_class\u001b[0m\u001b[0;34m(\u001b[0m\u001b[0mmessage\u001b[0m\u001b[0;34m,\u001b[0m \u001b[0mscreen\u001b[0m\u001b[0;34m,\u001b[0m \u001b[0mstacktrace\u001b[0m\u001b[0;34m,\u001b[0m \u001b[0malert_text\u001b[0m\u001b[0;34m)\u001b[0m\u001b[0;34m\u001b[0m\u001b[0;34m\u001b[0m\u001b[0m\n\u001b[0;32m--> 242\u001b[0;31m         \u001b[0;32mraise\u001b[0m \u001b[0mexception_class\u001b[0m\u001b[0;34m(\u001b[0m\u001b[0mmessage\u001b[0m\u001b[0;34m,\u001b[0m \u001b[0mscreen\u001b[0m\u001b[0;34m,\u001b[0m \u001b[0mstacktrace\u001b[0m\u001b[0;34m)\u001b[0m\u001b[0;34m\u001b[0m\u001b[0;34m\u001b[0m\u001b[0m\n\u001b[0m\u001b[1;32m    243\u001b[0m \u001b[0;34m\u001b[0m\u001b[0m\n\u001b[1;32m    244\u001b[0m     \u001b[0;32mdef\u001b[0m \u001b[0m_value_or_default\u001b[0m\u001b[0;34m(\u001b[0m\u001b[0mself\u001b[0m\u001b[0;34m,\u001b[0m \u001b[0mobj\u001b[0m\u001b[0;34m,\u001b[0m \u001b[0mkey\u001b[0m\u001b[0;34m,\u001b[0m \u001b[0mdefault\u001b[0m\u001b[0;34m)\u001b[0m\u001b[0;34m:\u001b[0m\u001b[0;34m\u001b[0m\u001b[0;34m\u001b[0m\u001b[0m\n",
      "\u001b[0;31mNoSuchWindowException\u001b[0m: Message: no such window: window was already closed\n  (Session info: chrome=84.0.4147.135)\n"
     ]
    }
   ],
   "source": [
    "#lists for results:\n",
    "prices= []\n",
    "adnames = []\n",
    "ad_details = []\n",
    "category = []\n",
    "subcat = []\n",
    "\n",
    "#set url to horsequest advanced search page\n",
    "driver = webdriver.Chrome(PATH)\n",
    "url = 'https://www.horsequest.co.uk/search'\n",
    "driver.get(url)\n",
    "time.sleep(1)\n",
    "\n",
    "#define functions\n",
    "\n",
    "#determine number of pages for the search results, save as an int\n",
    "def page_counter(x):\n",
    "    if x == 1:\n",
    "        return 1\n",
    "    else:\n",
    "        lastpagetxt = x.text\n",
    "        lastpage= int(lastpagetxt.split()[-1])\n",
    "        return lastpage\n",
    "\n",
    "#retrieve data on price, title, and details on a single page\n",
    "def get_data():\n",
    "    cards = driver.find_elements_by_class_name('card-main')\n",
    "    \n",
    "    for card in cards:\n",
    "        #retrieve advert title\n",
    "        titles = card.find_elements_by_class_name('card-title')\n",
    "        for i in titles:\n",
    "            titletext = i.text\n",
    "            adnames.append(titletext)\n",
    "    \n",
    "    for card in cards:\n",
    "        #retrieve advert price\n",
    "        pricelab = card.find_elements_by_class_name('card-price')\n",
    "        for i in pricelab:\n",
    "            result = i.text\n",
    "            prices.append(result)\n",
    "\n",
    "    #retrieve advert details *if present*\n",
    "    for card in cards:\n",
    "        details=card.find_elements_by_class_name(\"card-breedInfo\")\n",
    "        if len(details) == 1:\n",
    "            for i in details:\n",
    "                detailtext = i.text\n",
    "                ad_details.append(detailtext)\n",
    "        #if details are absent, append \"blank\"\n",
    "        else:\n",
    "            ad_details.append(\"BLANK\")\n",
    "\n",
    "    #add a numeric placeholder for the subcategory being scraped \n",
    "    for card in cards:\n",
    "        subcat.append(subcatno)\n",
    "\n",
    "#go to each page, and then extract data          \n",
    "def main():\n",
    "    #select category 'horses for sale'\n",
    "    dd1 = WebDriverWait(driver, 10).until(\n",
    "            EC.presence_of_element_located((By.XPATH, \"//*[(@id = 'ContentPanel_ddlCategory')]/option[text()='Horses For Sale']\")\n",
    "        ))\n",
    "    dd1.click()\n",
    "\n",
    "    time.sleep(1)\n",
    "\n",
    "    #identify the subcategories in the second dropdown, then save them to \"options\"\n",
    "    dd2 = Select(driver.find_element_by_xpath(\"//*[(@id = 'ContentPanel_ddlSubCategory')]\"))\n",
    "    options = dd2.options\n",
    "    #save the text names of horse types to a list for later use\n",
    "    for option in options:\n",
    "        category.append(option.text)\n",
    "\n",
    "    #iterate through subcats in this dropdown- click each subcat, then click search:\n",
    "    for item in range(1,len(options)):\n",
    "\n",
    "        #pick a subcat\n",
    "        dd2 = Select(driver.find_element_by_xpath(\"//*[(@id = 'ContentPanel_ddlSubCategory')]\"))\n",
    "        time.sleep(1)\n",
    "        dd2.select_by_index(item)\n",
    "        time.sleep(1)\n",
    "\n",
    "        #scroll to search button\n",
    "        driver.execute_script(\"window.scrollTo(0, document.body.scrollHeight)\")\n",
    "\n",
    "        #click go\n",
    "        element = driver.find_element_by_name('ctl00$ContentPanel$btnsubmit')\n",
    "        actions = ActionChains(driver)\n",
    "        actions.move_to_element(element).click().perform()\n",
    "\n",
    "        time.sleep(2)\n",
    "\n",
    "        #look if there are multiple pages to scrape. if so, calc num of pages. \n",
    "        try:\n",
    "            pagerange= driver.find_element_by_css_selector(\".pagination-pagenumber\")\n",
    "            allpages= page_counter(pagerange)\n",
    "        except NoSuchElementException:\n",
    "            pagerange = 1   \n",
    "        subcatno = item\n",
    "        #extract data\n",
    "        for j in range(allpages):\n",
    "            try:\n",
    "            #if a next page button is present: get data from this page, then click next page \n",
    "                nextpage = driver.find_element_by_xpath(\"//*[(@id = 'ContentPanel_ucTopPagination_hlPageNext')]\")\n",
    "                get_data()\n",
    "                nextpage.click()\n",
    "                time.sleep(1)\n",
    "            #otherwise, get data from this page\n",
    "            except NoSuchElementException:\n",
    "                get_data()\n",
    "\n",
    "                #go back to starter page\n",
    "                driver.get(url)\n",
    "                #click first dropdown and re-input horses for sale- this prevents dropdown timeout\n",
    "                dd1 = WebDriverWait(driver, 10).until(\n",
    "                EC.presence_of_element_located((By.XPATH, \"//*[(@id = 'ContentPanel_ddlCategory')]/option[text()='Horses For Sale']\")\n",
    "                ))\n",
    "\n",
    "                dd1.click()\n",
    "\n",
    "                time.sleep(1)\n",
    "                #open second drop down, save its categories to options- to prevent dropdown timeout\n",
    "                dd2 = Select(driver.find_element_by_xpath(\"//*[(@id = 'ContentPanel_ddlSubCategory')]\"))\n",
    "                options = dd2.options\n",
    "                \n",
    "main()\n",
    "\n",
    "driver.quit()"
   ]
  },
  {
   "cell_type": "code",
   "execution_count": null,
   "metadata": {},
   "outputs": [],
   "source": []
  },
  {
   "cell_type": "code",
   "execution_count": null,
   "metadata": {},
   "outputs": [],
   "source": []
  },
  {
   "cell_type": "code",
   "execution_count": 28,
   "metadata": {},
   "outputs": [],
   "source": [
    "#to interrupt a scrape midway through\n",
    "driver.quit()"
   ]
  },
  {
   "cell_type": "code",
   "execution_count": null,
   "metadata": {},
   "outputs": [],
   "source": []
  },
  {
   "cell_type": "markdown",
   "metadata": {},
   "source": [
    "*** CREATE A DATAFRAME FOR THE DATA***\n",
    "\n",
    "\n",
    "note- if scrape is interrupted, lists will likely be different lengths and if so, df will not be possible to make"
   ]
  },
  {
   "cell_type": "code",
   "execution_count": 29,
   "metadata": {},
   "outputs": [],
   "source": [
    "#make empty df\n",
    "df= pd.DataFrame()"
   ]
  },
  {
   "cell_type": "code",
   "execution_count": 30,
   "metadata": {},
   "outputs": [],
   "source": [
    "#advert title column\n",
    "df[\"Name\"] = adnames"
   ]
  },
  {
   "cell_type": "code",
   "execution_count": 31,
   "metadata": {},
   "outputs": [],
   "source": [
    "#details column\n",
    "df[\"Details\"]= ad_details"
   ]
  },
  {
   "cell_type": "code",
   "execution_count": 32,
   "metadata": {},
   "outputs": [],
   "source": [
    "#price column\n",
    "df[\"Price\"]= prices"
   ]
  },
  {
   "cell_type": "code",
   "execution_count": 33,
   "metadata": {},
   "outputs": [],
   "source": [
    "#numeric subcategory column\n",
    "df[\"Category\"] = subcat"
   ]
  },
  {
   "cell_type": "code",
   "execution_count": 43,
   "metadata": {},
   "outputs": [],
   "source": [
    "#function to return a text equivalent of the numeric subcat\n",
    "def gettitle(x):\n",
    "    return category[x - 1] "
   ]
  },
  {
   "cell_type": "code",
   "execution_count": 44,
   "metadata": {},
   "outputs": [],
   "source": [
    "#make text subcategory column eg allrounders\n",
    "df['Type'] = list(map(gettitle,df[\"Category\"]))"
   ]
  },
  {
   "cell_type": "code",
   "execution_count": 48,
   "metadata": {},
   "outputs": [
    {
     "data": {
      "text/html": [
       "<div>\n",
       "<style scoped>\n",
       "    .dataframe tbody tr th:only-of-type {\n",
       "        vertical-align: middle;\n",
       "    }\n",
       "\n",
       "    .dataframe tbody tr th {\n",
       "        vertical-align: top;\n",
       "    }\n",
       "\n",
       "    .dataframe thead th {\n",
       "        text-align: right;\n",
       "    }\n",
       "</style>\n",
       "<table border=\"1\" class=\"dataframe\">\n",
       "  <thead>\n",
       "    <tr style=\"text-align: right;\">\n",
       "      <th></th>\n",
       "      <th>Name</th>\n",
       "      <th>Details</th>\n",
       "      <th>Price</th>\n",
       "      <th>Category</th>\n",
       "      <th>Type</th>\n",
       "    </tr>\n",
       "  </thead>\n",
       "  <tbody>\n",
       "    <tr>\n",
       "      <th>0</th>\n",
       "      <td>SUPER GENUINE AND FUN PONY CLUB PONY / EVENTER</td>\n",
       "      <td>Irish Sports HorseSkewbaldGelding10 years15.1 ...</td>\n",
       "      <td>POA</td>\n",
       "      <td>2</td>\n",
       "      <td>Allrounders</td>\n",
       "    </tr>\n",
       "    <tr>\n",
       "      <th>1</th>\n",
       "      <td>QUALITY 4Y/O IRISH EVENT PROSPECT</td>\n",
       "      <td>Irish Sports HorseBayGelding4 years16.1 hands</td>\n",
       "      <td>£5,000</td>\n",
       "      <td>2</td>\n",
       "      <td>Allrounders</td>\n",
       "    </tr>\n",
       "    <tr>\n",
       "      <th>2</th>\n",
       "      <td>FUN AND GENUINE RIDING CLUB / PONY CLUB PONY</td>\n",
       "      <td>CobPalominoGelding10 years14.3 hands</td>\n",
       "      <td>£8,250</td>\n",
       "      <td>2</td>\n",
       "      <td>Allrounders</td>\n",
       "    </tr>\n",
       "    <tr>\n",
       "      <th>3</th>\n",
       "      <td>IDEAL BE / BS PROSPECT</td>\n",
       "      <td>IrishMare5 years15.2 hands</td>\n",
       "      <td>£8,250</td>\n",
       "      <td>2</td>\n",
       "      <td>Allrounders</td>\n",
       "    </tr>\n",
       "    <tr>\n",
       "      <th>4</th>\n",
       "      <td>BEAUTIFUL TB MARE</td>\n",
       "      <td>ThoroughbredBrownMare11 years16 hands</td>\n",
       "      <td>£2,500 ono</td>\n",
       "      <td>2</td>\n",
       "      <td>Allrounders</td>\n",
       "    </tr>\n",
       "  </tbody>\n",
       "</table>\n",
       "</div>"
      ],
      "text/plain": [
       "                                             Name  \\\n",
       "0  SUPER GENUINE AND FUN PONY CLUB PONY / EVENTER   \n",
       "1               QUALITY 4Y/O IRISH EVENT PROSPECT   \n",
       "2    FUN AND GENUINE RIDING CLUB / PONY CLUB PONY   \n",
       "3                          IDEAL BE / BS PROSPECT   \n",
       "4                               BEAUTIFUL TB MARE   \n",
       "\n",
       "                                             Details       Price  Category  \\\n",
       "0  Irish Sports HorseSkewbaldGelding10 years15.1 ...         POA         2   \n",
       "1      Irish Sports HorseBayGelding4 years16.1 hands      £5,000         2   \n",
       "2               CobPalominoGelding10 years14.3 hands      £8,250         2   \n",
       "3                         IrishMare5 years15.2 hands      £8,250         2   \n",
       "4              ThoroughbredBrownMare11 years16 hands  £2,500 ono         2   \n",
       "\n",
       "          Type  \n",
       "0  Allrounders  \n",
       "1  Allrounders  \n",
       "2  Allrounders  \n",
       "3  Allrounders  \n",
       "4  Allrounders  "
      ]
     },
     "execution_count": 48,
     "metadata": {},
     "output_type": "execute_result"
    }
   ],
   "source": [
    "#head of df\n",
    "df.head()"
   ]
  },
  {
   "cell_type": "code",
   "execution_count": null,
   "metadata": {},
   "outputs": [],
   "source": []
  },
  {
   "cell_type": "code",
   "execution_count": null,
   "metadata": {},
   "outputs": [],
   "source": []
  },
  {
   "cell_type": "code",
   "execution_count": null,
   "metadata": {},
   "outputs": [],
   "source": []
  },
  {
   "cell_type": "code",
   "execution_count": null,
   "metadata": {},
   "outputs": [],
   "source": []
  },
  {
   "cell_type": "code",
   "execution_count": 184,
   "metadata": {},
   "outputs": [],
   "source": []
  },
  {
   "cell_type": "code",
   "execution_count": null,
   "metadata": {},
   "outputs": [],
   "source": []
  },
  {
   "cell_type": "code",
   "execution_count": null,
   "metadata": {},
   "outputs": [],
   "source": []
  }
 ],
 "metadata": {
  "kernelspec": {
   "display_name": "Python 3",
   "language": "python",
   "name": "python3"
  },
  "language_info": {
   "codemirror_mode": {
    "name": "ipython",
    "version": 3
   },
   "file_extension": ".py",
   "mimetype": "text/x-python",
   "name": "python",
   "nbconvert_exporter": "python",
   "pygments_lexer": "ipython3",
   "version": "3.7.6"
  }
 },
 "nbformat": 4,
 "nbformat_minor": 4
}
